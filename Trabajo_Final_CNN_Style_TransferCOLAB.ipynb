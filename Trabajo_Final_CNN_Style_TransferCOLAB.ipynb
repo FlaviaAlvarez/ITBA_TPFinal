{
  "nbformat": 4,
  "nbformat_minor": 0,
  "metadata": {
    "colab": {
      "name": "Trabajo Final CNN - Style Transfer.ipynb",
      "provenance": []
    },
    "kernelspec": {
      "name": "python3",
      "display_name": "Python 3"
    },
    "accelerator": "GPU"
  },
  "cells": [
    {
      "cell_type": "markdown",
      "metadata": {
        "id": "qCY6UbkkI9_N",
        "colab_type": "text"
      },
      "source": [
        "# Style Transfer\n",
        "\n",
        "<img src=\"https://i0.wp.com/chelseatroy.com/wp-content/uploads/2018/12/neural_style_transfer.png?resize=768%2C311&ssl=1\">\n",
        "\n",
        "La idea de este trabajo final es reproducir el siguiente paper:\n",
        "\n",
        "https://arxiv.org/pdf/1508.06576.pdf\n",
        "\n",
        "El objetivo es transferir el estilo de una imagen dada a otra imagen distinta. \n",
        "\n",
        "Como hemos visto en clase, las primeras capas de una red convolucional se activan ante la presencia de ciertos patrones vinculados a detalles muy pequeños.\n",
        "\n",
        "A medida que avanzamos en las distintas capas de una red neuronal convolucional, los filtros se van activando a medida que detectan patrones de formas cada vez mas complejos.\n",
        "\n",
        "Lo que propone este paper es asignarle a la activación de las primeras capas de una red neuronal convolucional (por ejemplo VGG19) la definición del estilo y a la activación de las últimas capas de la red neuronal convolucional, la definición del contenido.\n",
        "\n",
        "La idea de este paper es, a partir de dos imágenes (una que aporte el estilo y otra que aporte el contenido) analizar cómo es la activación de las primeras capas para la imagen que aporta el estilo y cómo es la activación de las últimas capas de la red convolucional para la imagen que aporta el contenido. A partir de esto se intentará sintetizar una imagen que active los filtros de las primeras capas que se activaron con la imagen que aporta el estilo y los filtros de las últimas capas que se activaron con la imagen que aporta el contenido.\n",
        "\n",
        "A este procedimiento se lo denomina neural style transfer.\n",
        "\n",
        "# En este trabajo se deberá leer el paper mencionado y en base a ello, entender la implementación que se muestra a continuación y contestar preguntas sobre la misma.\n",
        "\n",
        "# Una metodología posible es hacer una lectura rápida del paper (aunque esto signifique no entender algunos detalles del mismo) y luego ir analizando el código y respondiendo las preguntas. A medida que se planteen las preguntas, volviendo a leer secciones específicas del paper terminará de entender los detalles que pudieran haber quedado pendientes.\n",
        "\n",
        "Lo primero que haremos es cargar dos imágenes, una que aporte el estilo y otra que aporte el contenido. A tal fin utilizaremos imágenes disponibles en la web."
      ]
    },
    {
      "cell_type": "code",
      "metadata": {
        "id": "kyHsa2t0SxZi",
        "colab_type": "code",
        "colab": {
          "base_uri": "https://localhost:8080/",
          "height": 765
        },
        "outputId": "68fe378f-27aa-4aeb-d248-fde8c0321c6f"
      },
      "source": [
        "# Imagen para estilo\n",
        "!wget https://upload.wikimedia.org/wikipedia/commons/5/52/La_noche_estrellada1.jpg\n",
        "!wget https://upload.wikimedia.org/wikipedia/commons/f/f9/Cyclist_%28Goncharova%2C_1913%29.jpg\n",
        "# Imagen para contenido\n",
        "!wget https://upload.wikimedia.org/wikipedia/commons/thumb/f/f4/Neckarfront_T%C3%BCbingen_Mai_2017.jpg/775px-Neckarfront_T%C3%BCbingen_Mai_2017.jpg\n",
        "!wget https://upload.wikimedia.org/wikipedia/commons/thumb/7/71/2010-kodiak-bear-1.jpg/1280px-2010-kodiak-bear-1.jpg\n",
        "\n",
        "\n",
        "\n",
        "\n",
        "# Creamos el directorio para los archivos de salida\n",
        "!mkdir /content/output"
      ],
      "execution_count": 3,
      "outputs": [
        {
          "output_type": "stream",
          "text": [
            "--2020-06-30 04:45:53--  https://upload.wikimedia.org/wikipedia/commons/5/52/La_noche_estrellada1.jpg\n",
            "Resolving upload.wikimedia.org (upload.wikimedia.org)... 208.80.154.240, 2001:df2:e500:ed1a::2:b\n",
            "Connecting to upload.wikimedia.org (upload.wikimedia.org)|208.80.154.240|:443... connected.\n",
            "HTTP request sent, awaiting response... 200 OK\n",
            "Length: 223725 (218K) [image/jpeg]\n",
            "Saving to: ‘La_noche_estrellada1.jpg’\n",
            "\n",
            "\rLa_noche_estrellada   0%[                    ]       0  --.-KB/s               \rLa_noche_estrellada 100%[===================>] 218.48K  --.-KB/s    in 0.05s   \n",
            "\n",
            "2020-06-30 04:45:53 (4.67 MB/s) - ‘La_noche_estrellada1.jpg’ saved [223725/223725]\n",
            "\n",
            "--2020-06-30 04:45:54--  https://upload.wikimedia.org/wikipedia/commons/f/f9/Cyclist_%28Goncharova%2C_1913%29.jpg\n",
            "Resolving upload.wikimedia.org (upload.wikimedia.org)... 208.80.154.240, 2001:df2:e500:ed1a::2:b\n",
            "Connecting to upload.wikimedia.org (upload.wikimedia.org)|208.80.154.240|:443... connected.\n",
            "HTTP request sent, awaiting response... 200 OK\n",
            "Length: 211622 (207K) [image/jpeg]\n",
            "Saving to: ‘Cyclist_(Goncharova,_1913).jpg’\n",
            "\n",
            "Cyclist_(Goncharova 100%[===================>] 206.66K  --.-KB/s    in 0.04s   \n",
            "\n",
            "2020-06-30 04:45:54 (5.47 MB/s) - ‘Cyclist_(Goncharova,_1913).jpg’ saved [211622/211622]\n",
            "\n",
            "--2020-06-30 04:45:55--  https://upload.wikimedia.org/wikipedia/commons/thumb/f/f4/Neckarfront_T%C3%BCbingen_Mai_2017.jpg/775px-Neckarfront_T%C3%BCbingen_Mai_2017.jpg\n",
            "Resolving upload.wikimedia.org (upload.wikimedia.org)... 208.80.154.240, 2001:df2:e500:ed1a::2:b\n",
            "Connecting to upload.wikimedia.org (upload.wikimedia.org)|208.80.154.240|:443... connected.\n",
            "HTTP request sent, awaiting response... 200 OK\n",
            "Length: 153015 (149K) [image/jpeg]\n",
            "Saving to: ‘775px-Neckarfront_Tübingen_Mai_2017.jpg’\n",
            "\n",
            "775px-Neckarfront_T 100%[===================>] 149.43K  --.-KB/s    in 0.04s   \n",
            "\n",
            "2020-06-30 04:45:55 (3.66 MB/s) - ‘775px-Neckarfront_Tübingen_Mai_2017.jpg’ saved [153015/153015]\n",
            "\n",
            "--2020-06-30 04:45:57--  https://upload.wikimedia.org/wikipedia/commons/thumb/7/71/2010-kodiak-bear-1.jpg/1280px-2010-kodiak-bear-1.jpg\n",
            "Resolving upload.wikimedia.org (upload.wikimedia.org)... 208.80.154.240, 2001:df2:e500:ed1a::2:b\n",
            "Connecting to upload.wikimedia.org (upload.wikimedia.org)|208.80.154.240|:443... connected.\n",
            "HTTP request sent, awaiting response... 200 OK\n",
            "Length: 244753 (239K) [image/jpeg]\n",
            "Saving to: ‘1280px-2010-kodiak-bear-1.jpg’\n",
            "\n",
            "1280px-2010-kodiak- 100%[===================>] 239.02K  --.-KB/s    in 0.05s   \n",
            "\n",
            "2020-06-30 04:45:57 (4.84 MB/s) - ‘1280px-2010-kodiak-bear-1.jpg’ saved [244753/244753]\n",
            "\n"
          ],
          "name": "stdout"
        }
      ]
    },
    {
      "cell_type": "code",
      "metadata": {
        "id": "gBkeh3E7L3jQ",
        "colab_type": "code",
        "colab": {
          "base_uri": "https://localhost:8080/",
          "height": 204
        },
        "outputId": "4f15adf0-1432-40ed-ac22-d978ef5c86e2"
      },
      "source": [
        "\n",
        "!wget https://www.zurbaran.com.ar/wp-content/uploads/2014/04/38099quinquela.jpg"
      ],
      "execution_count": 4,
      "outputs": [
        {
          "output_type": "stream",
          "text": [
            "--2020-06-30 04:46:01--  https://www.zurbaran.com.ar/wp-content/uploads/2014/04/38099quinquela.jpg\n",
            "Resolving www.zurbaran.com.ar (www.zurbaran.com.ar)... 200.58.127.191\n",
            "Connecting to www.zurbaran.com.ar (www.zurbaran.com.ar)|200.58.127.191|:443... connected.\n",
            "HTTP request sent, awaiting response... 200 OK\n",
            "Length: 249853 (244K) [image/jpeg]\n",
            "Saving to: ‘38099quinquela.jpg’\n",
            "\n",
            "38099quinquela.jpg  100%[===================>] 244.00K   205KB/s    in 1.2s    \n",
            "\n",
            "2020-06-30 04:46:03 (205 KB/s) - ‘38099quinquela.jpg’ saved [249853/249853]\n",
            "\n"
          ],
          "name": "stdout"
        }
      ]
    },
    {
      "cell_type": "code",
      "metadata": {
        "id": "NIxH20o2eFoc",
        "colab_type": "code",
        "colab": {
          "base_uri": "https://localhost:8080/",
          "height": 34
        },
        "outputId": "016fc57e-1272-481e-f1ef-3a2547201ed4"
      },
      "source": [
        "from keras.preprocessing.image import load_img, save_img, img_to_array\n",
        "import numpy as np\n",
        "from scipy.optimize import fmin_l_bfgs_b\n",
        "import time\n",
        "import argparse\n",
        "\n",
        "from keras.applications import vgg19\n",
        "from keras import backend as K\n",
        "from pathlib import Path"
      ],
      "execution_count": 5,
      "outputs": [
        {
          "output_type": "stream",
          "text": [
            "Using TensorFlow backend.\n"
          ],
          "name": "stderr"
        }
      ]
    },
    {
      "cell_type": "code",
      "metadata": {
        "id": "iLkV1bnFl_tK",
        "colab_type": "code",
        "colab": {}
      },
      "source": [
        "# Definimos las imagenes que vamos a utilizar, y el directorio de salida\n",
        "\n",
        "#base_image_path = Path(\"/content/775px-Neckarfront_Tübingen_Mai_2017.jpg\")\n",
        "base_image_path = Path(\"/content/1280px-2010-kodiak-bear-1.jpg\")\n",
        "#style_reference_image_path = Path(\"/content/La_noche_estrellada1.jpg\")\n",
        "#style_reference_image_path = Path(\"/content/Ciclista.jpg\")\n",
        "style_reference_image_path = Path(\"/content/38099quinquela.jpg\")\n",
        "result_prefix = Path(\"/content/output\")\n",
        "iterations = 50 #100"
      ],
      "execution_count": 6,
      "outputs": []
    },
    {
      "cell_type": "markdown",
      "metadata": {
        "id": "Gz2PeGfpeYzj",
        "colab_type": "text"
      },
      "source": [
        "# 1) En base a lo visto en el paper ¿Qué significan los parámetros definidos en la siguiente celda?\n",
        "\n",
        "Respuesta:\n"
      ]
    },
    {
      "cell_type": "code",
      "metadata": {
        "id": "P9Dt3aaEmJWS",
        "colab_type": "code",
        "colab": {}
      },
      "source": [
        "total_variation_weight = 100 #0.1\n",
        "style_weight = 10 #10\n",
        "content_weight = 10 #1"
      ],
      "execution_count": 67,
      "outputs": []
    },
    {
      "cell_type": "code",
      "metadata": {
        "id": "CQQJOhCVuse6",
        "colab_type": "code",
        "colab": {
          "base_uri": "https://localhost:8080/",
          "height": 85
        },
        "outputId": "4412ee0e-11ee-4a7e-afb8-c2fb9544c587"
      },
      "source": [
        "# Definimos el tamaño de las imágenes a utilizar\n",
        "width, height = load_img(base_image_path).size\n",
        "print( load_img(base_image_path).size)\n",
        "print(\"width\",width)\n",
        "print(\"height\",height)\n",
        "img_nrows = 400\n",
        "img_ncols = int(width * img_nrows / height)\n",
        "print (\"img_ncols\",img_ncols)"
      ],
      "execution_count": 68,
      "outputs": [
        {
          "output_type": "stream",
          "text": [
            "(1280, 853)\n",
            "width 1280\n",
            "height 853\n",
            "img_ncols 600\n"
          ],
          "name": "stdout"
        }
      ]
    },
    {
      "cell_type": "markdown",
      "metadata": {
        "id": "gg2ct-8agm1E",
        "colab_type": "text"
      },
      "source": [
        "# 2) Explicar qué hace la siguiente celda. En especial las últimas dos líneas de la función antes del return. ¿Por qué?\n",
        "\n",
        "Ayuda: https://keras.io/applications/\n",
        "\n",
        "Respuesta:"
      ]
    },
    {
      "cell_type": "code",
      "metadata": {
        "id": "tAkljg4zuzYd",
        "colab_type": "code",
        "colab": {}
      },
      "source": [
        "def preprocess_image(image_path):\n",
        "    img = load_img(image_path, target_size=(img_nrows, img_ncols))\n",
        "    img = img_to_array(img)\n",
        "    print(img.shape)\n",
        "    img = np.expand_dims(img, axis=0)\n",
        "    print(img.shape)\n",
        "    img = vgg19.preprocess_input(img)\n",
        "    return img"
      ],
      "execution_count": 69,
      "outputs": []
    },
    {
      "cell_type": "markdown",
      "metadata": {
        "id": "KTf0YDSagt10",
        "colab_type": "text"
      },
      "source": [
        "# 3) Habiendo comprendido lo que hace la celda anterior, explique de manera muy concisa qué hace la siguiente celda. ¿Qué relación tiene con la celda anterior?\n",
        "\n",
        "Respuesta:"
      ]
    },
    {
      "cell_type": "code",
      "metadata": {
        "id": "y5LaTrsAu14z",
        "colab_type": "code",
        "colab": {}
      },
      "source": [
        "def deprocess_image(x):\n",
        "    x = x.reshape((img_nrows, img_ncols, 3))\n",
        "    print (x.shape)\n",
        "    # Remove zero-center by mean pixel\n",
        "    x[:, :, 0] += 103.939\n",
        "    x[:, :, 1] += 116.779\n",
        "    x[:, :, 2] += 123.68\n",
        "\n",
        "    #print(x)\n",
        "    # 'BGR'->'RGB'\n",
        "    x = x[:, :, ::-1]\n",
        "    #print(x)\n",
        "    x = np.clip(x, 0, 255).astype('uint8')\n",
        "    #print(x)\n",
        "    return x"
      ],
      "execution_count": 70,
      "outputs": []
    },
    {
      "cell_type": "code",
      "metadata": {
        "id": "HYNio09mu4S3",
        "colab_type": "code",
        "colab": {
          "base_uri": "https://localhost:8080/",
          "height": 85
        },
        "outputId": "adf4ce0e-36ac-444c-d3f3-b5c1a930ba99"
      },
      "source": [
        "# get tensor representations of our images\n",
        "# K.variable convierte un numpy array en un tensor, para \n",
        "base_image = K.variable(preprocess_image(base_image_path))\n",
        "style_reference_image = K.variable(preprocess_image(style_reference_image_path))"
      ],
      "execution_count": 71,
      "outputs": [
        {
          "output_type": "stream",
          "text": [
            "(400, 600, 3)\n",
            "(1, 400, 600, 3)\n",
            "(400, 600, 3)\n",
            "(1, 400, 600, 3)\n"
          ],
          "name": "stdout"
        }
      ]
    },
    {
      "cell_type": "code",
      "metadata": {
        "id": "a1Lbw02Uu--o",
        "colab_type": "code",
        "colab": {}
      },
      "source": [
        "combination_image = K.placeholder((1, img_nrows, img_ncols, 3))"
      ],
      "execution_count": 72,
      "outputs": []
    },
    {
      "cell_type": "markdown",
      "metadata": {
        "id": "RJEi0YI3Uzrm",
        "colab_type": "text"
      },
      "source": [
        "Aclaración:\n",
        "\n",
        "La siguiente celda sirve para procesar las tres imagenes (contenido, estilo y salida) en un solo batch."
      ]
    },
    {
      "cell_type": "code",
      "metadata": {
        "id": "gGO_jGFfvEbF",
        "colab_type": "code",
        "colab": {}
      },
      "source": [
        "# combine the 3 images into a single Keras tensor\n",
        "input_tensor = K.concatenate([base_image,\n",
        "                              style_reference_image,\n",
        "                              combination_image], axis=0)"
      ],
      "execution_count": 73,
      "outputs": []
    },
    {
      "cell_type": "code",
      "metadata": {
        "id": "tdG59VRavHGB",
        "colab_type": "code",
        "colab": {
          "base_uri": "https://localhost:8080/",
          "height": 34
        },
        "outputId": "0c31f067-b1bd-482a-ba42-c2529f2a88b1"
      },
      "source": [
        "# build the VGG19 network with our 3 images as input\n",
        "# the model will be loaded with pre-trained ImageNet weights\n",
        "model = vgg19.VGG19(input_tensor=input_tensor,\n",
        "                    weights='imagenet', include_top=False)\n",
        "print('Model loaded.')\n",
        "\n",
        "# get the symbolic outputs of each \"key\" layer (we gave them unique names).\n",
        "outputs_dict = dict([(layer.name, layer.output) for layer in model.layers])"
      ],
      "execution_count": 74,
      "outputs": [
        {
          "output_type": "stream",
          "text": [
            "Model loaded.\n"
          ],
          "name": "stdout"
        }
      ]
    },
    {
      "cell_type": "markdown",
      "metadata": {
        "id": "70-vs_jZkKVc",
        "colab_type": "text"
      },
      "source": [
        "# 4) En la siguientes celdas:\n",
        "\n",
        "- ¿Qué es la matriz de Gram?¿Para qué se usa?\n",
        "- ¿Por qué se permutan las dimensiones de x?"
      ]
    },
    {
      "cell_type": "code",
      "metadata": {
        "id": "K1FODPATvJ1k",
        "colab_type": "code",
        "colab": {}
      },
      "source": [
        "def gram_matrix(x):\n",
        "    features = K.batch_flatten(K.permute_dimensions(x, (2, 0, 1)))\n",
        "    gram = K.dot(features, K.transpose(features))\n",
        "    return gram"
      ],
      "execution_count": 75,
      "outputs": []
    },
    {
      "cell_type": "markdown",
      "metadata": {
        "id": "vBQkKFY0Rbx-",
        "colab_type": "text"
      },
      "source": [
        "# 5) Losses:\n",
        "\n",
        "Explicar qué mide cada una de las losses en las siguientes tres celdas.\n",
        "\n",
        "Rta:"
      ]
    },
    {
      "cell_type": "code",
      "metadata": {
        "id": "1-Gt0ahWvN6q",
        "colab_type": "code",
        "colab": {}
      },
      "source": [
        "def style_loss(style, combination):\n",
        "    assert K.ndim(style) == 3\n",
        "    assert K.ndim(combination) == 3\n",
        "    S = gram_matrix(style)\n",
        "    C = gram_matrix(combination)\n",
        "    channels = 3\n",
        "    size = img_nrows * img_ncols\n",
        "    return K.sum(K.square(S - C)) / (4.0 * (channels ** 2) * (size ** 2))"
      ],
      "execution_count": 76,
      "outputs": []
    },
    {
      "cell_type": "code",
      "metadata": {
        "id": "XCqnju5RvQCo",
        "colab_type": "code",
        "colab": {}
      },
      "source": [
        "def content_loss(base, combination):\n",
        "    return K.sum(K.square(combination - base))\n"
      ],
      "execution_count": 77,
      "outputs": []
    },
    {
      "cell_type": "code",
      "metadata": {
        "id": "udEp5h31vRnY",
        "colab_type": "code",
        "colab": {}
      },
      "source": [
        "def total_variation_loss(x):\n",
        "    assert K.ndim(x) == 4\n",
        "    a = K.square(\n",
        "        x[:, :img_nrows - 1, :img_ncols - 1, :] - x[:, 1:, :img_ncols - 1, :])\n",
        "    b = K.square(\n",
        "        x[:, :img_nrows - 1, :img_ncols - 1, :] - x[:, :img_nrows - 1, 1:, :])\n",
        "    return K.sum(K.pow(a + b, 1.25))\n"
      ],
      "execution_count": 78,
      "outputs": []
    },
    {
      "cell_type": "code",
      "metadata": {
        "id": "-65vcinbvTZ0",
        "colab_type": "code",
        "colab": {}
      },
      "source": [
        "# Armamos la loss total\n",
        "loss = K.variable(0.0)\n",
        "layer_features = outputs_dict['block5_conv2']\n",
        "base_image_features = layer_features[0, :, :, :]\n",
        "combination_features = layer_features[2, :, :, :]\n",
        "loss = loss + content_weight * content_loss(base_image_features,\n",
        "                                            combination_features)\n",
        "\n",
        "feature_layers = ['block1_conv1', 'block2_conv1',\n",
        "                  'block3_conv1', 'block4_conv1',\n",
        "                  'block5_conv1']\n",
        "for layer_name in feature_layers:\n",
        "    layer_features = outputs_dict[layer_name]\n",
        "    style_reference_features = layer_features[1, :, :, :] \n",
        "    combination_features = layer_features[2, :, :, :]\n",
        "    sl = style_loss(style_reference_features, combination_features)\n",
        "    loss = loss + (style_weight / len(feature_layers)) * sl\n",
        "loss = loss + total_variation_weight * total_variation_loss(combination_image)"
      ],
      "execution_count": 79,
      "outputs": []
    },
    {
      "cell_type": "code",
      "metadata": {
        "id": "pbz4n1OhvV2K",
        "colab_type": "code",
        "colab": {}
      },
      "source": [
        "grads = K.gradients(loss, combination_image)\n",
        "\n",
        "outputs = [loss]\n",
        "if isinstance(grads, (list, tuple)):\n",
        "    outputs += grads\n",
        "else:\n",
        "    outputs.append(grads)\n",
        "\n",
        "f_outputs = K.function([combination_image], outputs)"
      ],
      "execution_count": 80,
      "outputs": []
    },
    {
      "cell_type": "markdown",
      "metadata": {
        "id": "1JbydbOaVcvU",
        "colab_type": "text"
      },
      "source": [
        "# 6) Explique el propósito de las siguientes tres celdas. ¿Qué hace la función fmin_l_bfgs_b? ¿En qué se diferencia con la implementación del paper? ¿Se puede utilizar alguna alternativa?\n",
        "\n",
        "Respuesta:"
      ]
    },
    {
      "cell_type": "code",
      "metadata": {
        "id": "zVE1_qemvZeN",
        "colab_type": "code",
        "colab": {}
      },
      "source": [
        "def eval_loss_and_grads(x):\n",
        "    x = x.reshape((1, img_nrows, img_ncols, 3))\n",
        "    outs = f_outputs([x])\n",
        "    loss_value = outs[0]\n",
        "    if len(outs[1:]) == 1:\n",
        "        grad_values = outs[1].flatten().astype('float64')\n",
        "    else:\n",
        "        grad_values = np.array(outs[1:]).flatten().astype('float64')\n",
        "    return loss_value, grad_values\n",
        "\n",
        "# this Evaluator class makes it possible\n",
        "# to compute loss and gradients in one pass\n",
        "# while retrieving them via two separate functions,\n",
        "# \"loss\" and \"grads\". This is done because scipy.optimize\n",
        "# requires separate functions for loss and gradients,\n",
        "# but computing them separately would be inefficient."
      ],
      "execution_count": 81,
      "outputs": []
    },
    {
      "cell_type": "code",
      "metadata": {
        "id": "Qbl9roIgvdb1",
        "colab_type": "code",
        "colab": {}
      },
      "source": [
        "class Evaluator(object):\n",
        "\n",
        "    def __init__(self):\n",
        "        self.loss_value = None\n",
        "        self.grads_values = None\n",
        "\n",
        "    def loss(self, x):\n",
        "        assert self.loss_value is None\n",
        "        loss_value, grad_values = eval_loss_and_grads(x)\n",
        "        self.loss_value = loss_value\n",
        "        self.grad_values = grad_values\n",
        "        return self.loss_value\n",
        "\n",
        "    def grads(self, x):\n",
        "        assert self.loss_value is not None\n",
        "        grad_values = np.copy(self.grad_values)\n",
        "        self.loss_value = None\n",
        "        self.grad_values = None\n",
        "        return grad_values"
      ],
      "execution_count": 82,
      "outputs": []
    },
    {
      "cell_type": "markdown",
      "metadata": {
        "id": "Sb0yOEl-WOE6",
        "colab_type": "text"
      },
      "source": [
        "# 7) Ejecute la siguiente celda y observe las imágenes de salida en cada iteración."
      ]
    },
    {
      "cell_type": "code",
      "metadata": {
        "id": "n31YBwCVvhAI",
        "colab_type": "code",
        "colab": {
          "base_uri": "https://localhost:8080/",
          "height": 1000
        },
        "outputId": "e50c3255-0690-4054-9a9d-8a81daff77a9"
      },
      "source": [
        "evaluator = Evaluator()\n",
        "\n",
        "# run scipy-based optimization (L-BFGS) over the pixels of the generated image\n",
        "# so as to minimize the neural style loss\n",
        "x = preprocess_image(base_image_path)\n",
        "\n",
        "for i in range(iterations):\n",
        "    print('Start of iteration', i)\n",
        "    start_time = time.time()\n",
        "    x, min_val, info = fmin_l_bfgs_b(evaluator.loss, x.flatten(),\n",
        "                                     fprime=evaluator.grads, maxfun=20)\n",
        "    print('Current loss value:', min_val)\n",
        "    # save current generated image\n",
        "    img = deprocess_image(x.copy())\n",
        "    fname = result_prefix / ('output_at_iteration_%d.png' % i)\n",
        "    save_img(fname, img)\n",
        "    end_time = time.time()\n",
        "    print('Image saved as', fname)\n",
        "    print('Iteration %d completed in %ds' % (i, end_time - start_time))"
      ],
      "execution_count": 83,
      "outputs": [
        {
          "output_type": "stream",
          "text": [
            "(400, 600, 3)\n",
            "(1, 400, 600, 3)\n",
            "Start of iteration 0\n",
            "Current loss value: 227529560000.0\n",
            "(400, 600, 3)\n",
            "Image saved as /content/output/output_at_iteration_0.png\n",
            "Iteration 0 completed in 4s\n",
            "Start of iteration 1\n",
            "Current loss value: 164598350000.0\n",
            "(400, 600, 3)\n",
            "Image saved as /content/output/output_at_iteration_1.png\n",
            "Iteration 1 completed in 4s\n",
            "Start of iteration 2\n",
            "Current loss value: 147727430000.0\n",
            "(400, 600, 3)\n",
            "Image saved as /content/output/output_at_iteration_2.png\n",
            "Iteration 2 completed in 4s\n",
            "Start of iteration 3\n",
            "Current loss value: 139122410000.0\n",
            "(400, 600, 3)\n",
            "Image saved as /content/output/output_at_iteration_3.png\n",
            "Iteration 3 completed in 4s\n",
            "Start of iteration 4\n",
            "Current loss value: 133711670000.0\n",
            "(400, 600, 3)\n",
            "Image saved as /content/output/output_at_iteration_4.png\n",
            "Iteration 4 completed in 4s\n",
            "Start of iteration 5\n",
            "Current loss value: 129773530000.0\n",
            "(400, 600, 3)\n",
            "Image saved as /content/output/output_at_iteration_5.png\n",
            "Iteration 5 completed in 4s\n",
            "Start of iteration 6\n",
            "Current loss value: 127047000000.0\n",
            "(400, 600, 3)\n",
            "Image saved as /content/output/output_at_iteration_6.png\n",
            "Iteration 6 completed in 4s\n",
            "Start of iteration 7\n",
            "Current loss value: 124644150000.0\n",
            "(400, 600, 3)\n",
            "Image saved as /content/output/output_at_iteration_7.png\n",
            "Iteration 7 completed in 4s\n",
            "Start of iteration 8\n",
            "Current loss value: 122561410000.0\n",
            "(400, 600, 3)\n",
            "Image saved as /content/output/output_at_iteration_8.png\n",
            "Iteration 8 completed in 4s\n",
            "Start of iteration 9\n",
            "Current loss value: 120730290000.0\n",
            "(400, 600, 3)\n",
            "Image saved as /content/output/output_at_iteration_9.png\n",
            "Iteration 9 completed in 4s\n",
            "Start of iteration 10\n",
            "Current loss value: 119102366000.0\n",
            "(400, 600, 3)\n",
            "Image saved as /content/output/output_at_iteration_10.png\n",
            "Iteration 10 completed in 4s\n",
            "Start of iteration 11\n",
            "Current loss value: 117637610000.0\n",
            "(400, 600, 3)\n",
            "Image saved as /content/output/output_at_iteration_11.png\n",
            "Iteration 11 completed in 4s\n",
            "Start of iteration 12\n",
            "Current loss value: 116393430000.0\n",
            "(400, 600, 3)\n",
            "Image saved as /content/output/output_at_iteration_12.png\n",
            "Iteration 12 completed in 4s\n",
            "Start of iteration 13\n",
            "Current loss value: 115316930000.0\n",
            "(400, 600, 3)\n",
            "Image saved as /content/output/output_at_iteration_13.png\n",
            "Iteration 13 completed in 4s\n",
            "Start of iteration 14\n",
            "Current loss value: 114384350000.0\n",
            "(400, 600, 3)\n",
            "Image saved as /content/output/output_at_iteration_14.png\n",
            "Iteration 14 completed in 4s\n",
            "Start of iteration 15\n",
            "Current loss value: 113564840000.0\n",
            "(400, 600, 3)\n",
            "Image saved as /content/output/output_at_iteration_15.png\n",
            "Iteration 15 completed in 4s\n",
            "Start of iteration 16\n",
            "Current loss value: 112824110000.0\n",
            "(400, 600, 3)\n",
            "Image saved as /content/output/output_at_iteration_16.png\n",
            "Iteration 16 completed in 4s\n",
            "Start of iteration 17\n",
            "Current loss value: 112189110000.0\n",
            "(400, 600, 3)\n",
            "Image saved as /content/output/output_at_iteration_17.png\n",
            "Iteration 17 completed in 4s\n",
            "Start of iteration 18\n",
            "Current loss value: 111559440000.0\n",
            "(400, 600, 3)\n",
            "Image saved as /content/output/output_at_iteration_18.png\n",
            "Iteration 18 completed in 4s\n",
            "Start of iteration 19\n",
            "Current loss value: 111006470000.0\n",
            "(400, 600, 3)\n",
            "Image saved as /content/output/output_at_iteration_19.png\n",
            "Iteration 19 completed in 4s\n",
            "Start of iteration 20\n",
            "Current loss value: 110518580000.0\n",
            "(400, 600, 3)\n",
            "Image saved as /content/output/output_at_iteration_20.png\n",
            "Iteration 20 completed in 4s\n",
            "Start of iteration 21\n",
            "Current loss value: 110027350000.0\n",
            "(400, 600, 3)\n",
            "Image saved as /content/output/output_at_iteration_21.png\n",
            "Iteration 21 completed in 4s\n",
            "Start of iteration 22\n",
            "Current loss value: 109577520000.0\n",
            "(400, 600, 3)\n",
            "Image saved as /content/output/output_at_iteration_22.png\n",
            "Iteration 22 completed in 4s\n",
            "Start of iteration 23\n",
            "Current loss value: 109140040000.0\n",
            "(400, 600, 3)\n",
            "Image saved as /content/output/output_at_iteration_23.png\n",
            "Iteration 23 completed in 4s\n",
            "Start of iteration 24\n",
            "Current loss value: 108750990000.0\n",
            "(400, 600, 3)\n",
            "Image saved as /content/output/output_at_iteration_24.png\n",
            "Iteration 24 completed in 4s\n",
            "Start of iteration 25\n",
            "Current loss value: 108387260000.0\n",
            "(400, 600, 3)\n",
            "Image saved as /content/output/output_at_iteration_25.png\n",
            "Iteration 25 completed in 4s\n",
            "Start of iteration 26\n",
            "Current loss value: 108046730000.0\n",
            "(400, 600, 3)\n",
            "Image saved as /content/output/output_at_iteration_26.png\n",
            "Iteration 26 completed in 4s\n",
            "Start of iteration 27\n",
            "Current loss value: 107719380000.0\n",
            "(400, 600, 3)\n",
            "Image saved as /content/output/output_at_iteration_27.png\n",
            "Iteration 27 completed in 4s\n",
            "Start of iteration 28\n",
            "Current loss value: 107419845000.0\n",
            "(400, 600, 3)\n",
            "Image saved as /content/output/output_at_iteration_28.png\n",
            "Iteration 28 completed in 4s\n",
            "Start of iteration 29\n",
            "Current loss value: 107145280000.0\n",
            "(400, 600, 3)\n",
            "Image saved as /content/output/output_at_iteration_29.png\n",
            "Iteration 29 completed in 4s\n",
            "Start of iteration 30\n",
            "Current loss value: 106883030000.0\n",
            "(400, 600, 3)\n",
            "Image saved as /content/output/output_at_iteration_30.png\n",
            "Iteration 30 completed in 4s\n",
            "Start of iteration 31\n",
            "Current loss value: 106636640000.0\n",
            "(400, 600, 3)\n",
            "Image saved as /content/output/output_at_iteration_31.png\n",
            "Iteration 31 completed in 4s\n",
            "Start of iteration 32\n",
            "Current loss value: 106406020000.0\n",
            "(400, 600, 3)\n",
            "Image saved as /content/output/output_at_iteration_32.png\n",
            "Iteration 32 completed in 4s\n",
            "Start of iteration 33\n",
            "Current loss value: 106179360000.0\n",
            "(400, 600, 3)\n",
            "Image saved as /content/output/output_at_iteration_33.png\n",
            "Iteration 33 completed in 4s\n",
            "Start of iteration 34\n",
            "Current loss value: 105947360000.0\n",
            "(400, 600, 3)\n",
            "Image saved as /content/output/output_at_iteration_34.png\n",
            "Iteration 34 completed in 4s\n",
            "Start of iteration 35\n",
            "Current loss value: 105736010000.0\n",
            "(400, 600, 3)\n",
            "Image saved as /content/output/output_at_iteration_35.png\n",
            "Iteration 35 completed in 4s\n",
            "Start of iteration 36\n",
            "Current loss value: 105543430000.0\n",
            "(400, 600, 3)\n",
            "Image saved as /content/output/output_at_iteration_36.png\n",
            "Iteration 36 completed in 4s\n",
            "Start of iteration 37\n",
            "Current loss value: 105349250000.0\n",
            "(400, 600, 3)\n",
            "Image saved as /content/output/output_at_iteration_37.png\n",
            "Iteration 37 completed in 4s\n",
            "Start of iteration 38\n",
            "Current loss value: 105171680000.0\n",
            "(400, 600, 3)\n",
            "Image saved as /content/output/output_at_iteration_38.png\n",
            "Iteration 38 completed in 4s\n",
            "Start of iteration 39\n",
            "Current loss value: 105000650000.0\n",
            "(400, 600, 3)\n",
            "Image saved as /content/output/output_at_iteration_39.png\n",
            "Iteration 39 completed in 4s\n",
            "Start of iteration 40\n",
            "Current loss value: 104835600000.0\n",
            "(400, 600, 3)\n",
            "Image saved as /content/output/output_at_iteration_40.png\n",
            "Iteration 40 completed in 4s\n",
            "Start of iteration 41\n",
            "Current loss value: 104680970000.0\n",
            "(400, 600, 3)\n",
            "Image saved as /content/output/output_at_iteration_41.png\n",
            "Iteration 41 completed in 4s\n",
            "Start of iteration 42\n",
            "Current loss value: 104521380000.0\n",
            "(400, 600, 3)\n",
            "Image saved as /content/output/output_at_iteration_42.png\n",
            "Iteration 42 completed in 4s\n",
            "Start of iteration 43\n",
            "Current loss value: 104366410000.0\n",
            "(400, 600, 3)\n",
            "Image saved as /content/output/output_at_iteration_43.png\n",
            "Iteration 43 completed in 4s\n",
            "Start of iteration 44\n",
            "Current loss value: 104209070000.0\n",
            "(400, 600, 3)\n",
            "Image saved as /content/output/output_at_iteration_44.png\n",
            "Iteration 44 completed in 4s\n",
            "Start of iteration 45\n",
            "Current loss value: 104059085000.0\n",
            "(400, 600, 3)\n",
            "Image saved as /content/output/output_at_iteration_45.png\n",
            "Iteration 45 completed in 4s\n",
            "Start of iteration 46\n",
            "Current loss value: 103916780000.0\n",
            "(400, 600, 3)\n",
            "Image saved as /content/output/output_at_iteration_46.png\n",
            "Iteration 46 completed in 4s\n",
            "Start of iteration 47\n",
            "Current loss value: 103776120000.0\n",
            "(400, 600, 3)\n",
            "Image saved as /content/output/output_at_iteration_47.png\n",
            "Iteration 47 completed in 4s\n",
            "Start of iteration 48\n",
            "Current loss value: 103637480000.0\n",
            "(400, 600, 3)\n",
            "Image saved as /content/output/output_at_iteration_48.png\n",
            "Iteration 48 completed in 4s\n",
            "Start of iteration 49\n",
            "Current loss value: 103509380000.0\n",
            "(400, 600, 3)\n",
            "Image saved as /content/output/output_at_iteration_49.png\n",
            "Iteration 49 completed in 4s\n"
          ],
          "name": "stdout"
        }
      ]
    },
    {
      "cell_type": "markdown",
      "metadata": {
        "id": "SkiJtofbWWy1",
        "colab_type": "text"
      },
      "source": [
        "# 8) Generar imágenes para distintas combinaciones de pesos de las losses. Explicar las diferencias. (Adjuntar las imágenes generadas como archivos separados.)\n",
        "\n",
        "Respuesta:\n",
        "\n",
        "# 9) Cambiar las imágenes de contenido y estilo por unas elegidas por usted. Adjuntar el resultado.\n",
        "\n",
        "Respuesta:"
      ]
    },
    {
      "cell_type": "code",
      "metadata": {
        "id": "6lL2vMSDH9CW",
        "colab_type": "code",
        "colab": {
          "base_uri": "https://localhost:8080/",
          "height": 34
        },
        "outputId": "4b1daca5-93bf-490d-a8d9-93ab2f511b23"
      },
      "source": [
        "archivo = 'OSO_'+str(total_variation_weight)+'_'+str(style_weight)+'_'+str(content_weight)+'.tar.gz'\n",
        "\n",
        "\n",
        "\n",
        "\n",
        "print (archivo)\n",
        "\n"
      ],
      "execution_count": 85,
      "outputs": [
        {
          "output_type": "stream",
          "text": [
            "OSO_100_10_10.tar.gz\n"
          ],
          "name": "stdout"
        }
      ]
    },
    {
      "cell_type": "code",
      "metadata": {
        "id": "f69P0lSN_WTV",
        "colab_type": "code",
        "colab": {
          "base_uri": "https://localhost:8080/",
          "height": 34
        },
        "outputId": "786e459b-73d6-476d-82b6-60becf781da5"
      },
      "source": [
        "from google.colab import files\n",
        "!tar czf OSO_100_10_10.tar.gz /content/output/\n",
        "\n",
        "\n"
      ],
      "execution_count": 86,
      "outputs": [
        {
          "output_type": "stream",
          "text": [
            "tar: Removing leading `/' from member names\n"
          ],
          "name": "stdout"
        }
      ]
    },
    {
      "cell_type": "code",
      "metadata": {
        "id": "HhvzAfwmOlDo",
        "colab_type": "code",
        "colab": {
          "base_uri": "https://localhost:8080/",
          "height": 17
        },
        "outputId": "aad778f5-9fc7-4fff-f173-50cdfdec21e2"
      },
      "source": [
        "files.download('OSO_10_100_10.tar.gz')\n"
      ],
      "execution_count": 84,
      "outputs": [
        {
          "output_type": "display_data",
          "data": {
            "application/javascript": [
              "\n",
              "    async function download(id, filename, size) {\n",
              "      if (!google.colab.kernel.accessAllowed) {\n",
              "        return;\n",
              "      }\n",
              "      const div = document.createElement('div');\n",
              "      const label = document.createElement('label');\n",
              "      label.textContent = `Downloading \"${filename}\": `;\n",
              "      div.appendChild(label);\n",
              "      const progress = document.createElement('progress');\n",
              "      progress.max = size;\n",
              "      div.appendChild(progress);\n",
              "      document.body.appendChild(div);\n",
              "\n",
              "      const buffers = [];\n",
              "      let downloaded = 0;\n",
              "\n",
              "      const channel = await google.colab.kernel.comms.open(id);\n",
              "      // Send a message to notify the kernel that we're ready.\n",
              "      channel.send({})\n",
              "\n",
              "      for await (const message of channel.messages) {\n",
              "        // Send a message to notify the kernel that we're ready.\n",
              "        channel.send({})\n",
              "        if (message.buffers) {\n",
              "          for (const buffer of message.buffers) {\n",
              "            buffers.push(buffer);\n",
              "            downloaded += buffer.byteLength;\n",
              "            progress.value = downloaded;\n",
              "          }\n",
              "        }\n",
              "      }\n",
              "      const blob = new Blob(buffers, {type: 'application/binary'});\n",
              "      const a = document.createElement('a');\n",
              "      a.href = window.URL.createObjectURL(blob);\n",
              "      a.download = filename;\n",
              "      div.appendChild(a);\n",
              "      a.click();\n",
              "      div.remove();\n",
              "    }\n",
              "  "
            ],
            "text/plain": [
              "<IPython.core.display.Javascript object>"
            ]
          },
          "metadata": {
            "tags": []
          }
        },
        {
          "output_type": "display_data",
          "data": {
            "application/javascript": [
              "download(\"download_af326215-d225-4db3-8e46-c122b224efd8\", \"OSO_10_100_10.tar.gz\", 25411147)"
            ],
            "text/plain": [
              "<IPython.core.display.Javascript object>"
            ]
          },
          "metadata": {
            "tags": []
          }
        }
      ]
    },
    {
      "cell_type": "code",
      "metadata": {
        "id": "AJOT6swiOwTa",
        "colab_type": "code",
        "colab": {
          "base_uri": "https://localhost:8080/",
          "height": 17
        },
        "outputId": "3db3f9ed-a9b9-45cd-e7a7-89bf4e3defe6"
      },
      "source": [
        "files.download('OSO_100_10_10.tar.gz')\n"
      ],
      "execution_count": 87,
      "outputs": [
        {
          "output_type": "display_data",
          "data": {
            "application/javascript": [
              "\n",
              "    async function download(id, filename, size) {\n",
              "      if (!google.colab.kernel.accessAllowed) {\n",
              "        return;\n",
              "      }\n",
              "      const div = document.createElement('div');\n",
              "      const label = document.createElement('label');\n",
              "      label.textContent = `Downloading \"${filename}\": `;\n",
              "      div.appendChild(label);\n",
              "      const progress = document.createElement('progress');\n",
              "      progress.max = size;\n",
              "      div.appendChild(progress);\n",
              "      document.body.appendChild(div);\n",
              "\n",
              "      const buffers = [];\n",
              "      let downloaded = 0;\n",
              "\n",
              "      const channel = await google.colab.kernel.comms.open(id);\n",
              "      // Send a message to notify the kernel that we're ready.\n",
              "      channel.send({})\n",
              "\n",
              "      for await (const message of channel.messages) {\n",
              "        // Send a message to notify the kernel that we're ready.\n",
              "        channel.send({})\n",
              "        if (message.buffers) {\n",
              "          for (const buffer of message.buffers) {\n",
              "            buffers.push(buffer);\n",
              "            downloaded += buffer.byteLength;\n",
              "            progress.value = downloaded;\n",
              "          }\n",
              "        }\n",
              "      }\n",
              "      const blob = new Blob(buffers, {type: 'application/binary'});\n",
              "      const a = document.createElement('a');\n",
              "      a.href = window.URL.createObjectURL(blob);\n",
              "      a.download = filename;\n",
              "      div.appendChild(a);\n",
              "      a.click();\n",
              "      div.remove();\n",
              "    }\n",
              "  "
            ],
            "text/plain": [
              "<IPython.core.display.Javascript object>"
            ]
          },
          "metadata": {
            "tags": []
          }
        },
        {
          "output_type": "display_data",
          "data": {
            "application/javascript": [
              "download(\"download_f9d33a65-1212-4967-91ee-e8a88c2eb695\", \"OSO_100_10_10.tar.gz\", 20644912)"
            ],
            "text/plain": [
              "<IPython.core.display.Javascript object>"
            ]
          },
          "metadata": {
            "tags": []
          }
        }
      ]
    },
    {
      "cell_type": "code",
      "metadata": {
        "id": "_U7YZQqbu7Ex",
        "colab_type": "code",
        "colab": {}
      },
      "source": [
        ""
      ],
      "execution_count": null,
      "outputs": []
    }
  ]
}